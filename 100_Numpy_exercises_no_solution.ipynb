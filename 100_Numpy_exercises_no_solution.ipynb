{
 "cells": [
  {
   "cell_type": "markdown",
   "metadata": {},
   "source": [
    "# 100 numpy exercises\n",
    "\n",
    "This is a collection of exercises that have been collected in the numpy mailing list, on stack overflow and in the numpy documentation. The goal of this collection is to offer a quick reference for both old and new users but also to provide a set of exercises for those who teach.\n",
    "\n",
    "\n",
    "If you find an error or think you've a better way to solve some of them, feel free to open an issue at <https://github.com/rougier/numpy-100>"
   ]
  },
  {
   "cell_type": "markdown",
   "metadata": {},
   "source": [
    "#### 1. Import the numpy package under the name `np` (★☆☆)"
   ]
  },
  {
   "cell_type": "code",
   "execution_count": 1,
   "metadata": {
    "collapsed": true
   },
   "outputs": [],
   "source": [
    "import numpy as np"
   ]
  },
  {
   "cell_type": "markdown",
   "metadata": {},
   "source": [
    "#### 2. Print the numpy version and the configuration (★☆☆)"
   ]
  },
  {
   "cell_type": "code",
   "execution_count": 2,
   "metadata": {},
   "outputs": [
    {
     "name": "stdout",
     "output_type": "stream",
     "text": [
      "1.14.5\n",
      "blas_mkl_info:\n",
      "  NOT AVAILABLE\n",
      "blis_info:\n",
      "  NOT AVAILABLE\n",
      "openblas_info:\n",
      "    libraries = ['openblas', 'openblas']\n",
      "    library_dirs = ['/usr/local/lib']\n",
      "    language = c\n",
      "    define_macros = [('HAVE_CBLAS', None)]\n",
      "blas_opt_info:\n",
      "    libraries = ['openblas', 'openblas']\n",
      "    library_dirs = ['/usr/local/lib']\n",
      "    language = c\n",
      "    define_macros = [('HAVE_CBLAS', None)]\n",
      "lapack_mkl_info:\n",
      "  NOT AVAILABLE\n",
      "openblas_lapack_info:\n",
      "    libraries = ['openblas', 'openblas']\n",
      "    library_dirs = ['/usr/local/lib']\n",
      "    language = c\n",
      "    define_macros = [('HAVE_CBLAS', None)]\n",
      "lapack_opt_info:\n",
      "    libraries = ['openblas', 'openblas']\n",
      "    library_dirs = ['/usr/local/lib']\n",
      "    language = c\n",
      "    define_macros = [('HAVE_CBLAS', None)]\n"
     ]
    }
   ],
   "source": [
    "print(np.__version__)\n",
    "np.show_config()"
   ]
  },
  {
   "cell_type": "markdown",
   "metadata": {},
   "source": [
    "#### 3. Create a null vector of size 10 (★☆☆)"
   ]
  },
  {
   "cell_type": "code",
   "execution_count": 3,
   "metadata": {},
   "outputs": [
    {
     "data": {
      "text/plain": [
       "array([0., 0., 0., 0., 0., 0., 0., 0., 0., 0.])"
      ]
     },
     "execution_count": 3,
     "metadata": {},
     "output_type": "execute_result"
    }
   ],
   "source": [
    "np.zeros(10)"
   ]
  },
  {
   "cell_type": "markdown",
   "metadata": {},
   "source": [
    "#### 4.  How to find the memory size of any array (★☆☆)"
   ]
  },
  {
   "cell_type": "code",
   "execution_count": 4,
   "metadata": {},
   "outputs": [
    {
     "name": "stdout",
     "output_type": "stream",
     "text": [
      "(3, 4)\n"
     ]
    },
    {
     "data": {
      "text/plain": [
       "96"
      ]
     },
     "execution_count": 4,
     "metadata": {},
     "output_type": "execute_result"
    }
   ],
   "source": [
    "'''This can be done in 2 ways.Firstly we can use the numpy size function and multiply the \n",
    "number of elements with the size of these elements(given by itemsize)\n",
    "\n",
    "Secondly we can also do this by calling nbytes for a numpy array which basically does this job for us\n",
    "'''\n",
    "sample_arr=np.array([[0,0,0,0],[1,2,3,4],[2,3,4,5]])\n",
    "print(sample_arr.shape)\n",
    "# ?np.array\n",
    "# np.size(sample_arr)*sample_arr.itemsize\n",
    "sample_arr.nbytes"
   ]
  },
  {
   "cell_type": "markdown",
   "metadata": {},
   "source": [
    "#### 5.  How to get the documentation of the numpy add function from the command line? (★☆☆)"
   ]
  },
  {
   "cell_type": "code",
   "execution_count": 5,
   "metadata": {},
   "outputs": [
    {
     "name": "stdout",
     "output_type": "stream",
     "text": [
      "add(x1, x2, /, out=None, *, where=True, casting='same_kind', order='K', dtype=None, subok=True[, signature, extobj])\n",
      "\n",
      "Add arguments element-wise.\n",
      "\n",
      "Parameters\n",
      "----------\n",
      "x1, x2 : array_like\n",
      "    The arrays to be added.  If ``x1.shape != x2.shape``, they must be\n",
      "    broadcastable to a common shape (which may be the shape of one or\n",
      "    the other).\n",
      "out : ndarray, None, or tuple of ndarray and None, optional\n",
      "    A location into which the result is stored. If provided, it must have\n",
      "    a shape that the inputs broadcast to. If not provided or `None`,\n",
      "    a freshly-allocated array is returned. A tuple (possible only as a\n",
      "    keyword argument) must have length equal to the number of outputs.\n",
      "where : array_like, optional\n",
      "    Values of True indicate to calculate the ufunc at that position, values\n",
      "    of False indicate to leave the value in the output alone.\n",
      "**kwargs\n",
      "    For other keyword-only arguments, see the\n",
      "    :ref:`ufunc docs <ufuncs.kwargs>`.\n",
      "\n",
      "Returns\n",
      "-------\n",
      "add : ndarray or scalar\n",
      "    The sum of `x1` and `x2`, element-wise.  Returns a scalar if\n",
      "    both  `x1` and `x2` are scalars.\n",
      "\n",
      "Notes\n",
      "-----\n",
      "Equivalent to `x1` + `x2` in terms of array broadcasting.\n",
      "\n",
      "Examples\n",
      "--------\n",
      ">>> np.add(1.0, 4.0)\n",
      "5.0\n",
      ">>> x1 = np.arange(9.0).reshape((3, 3))\n",
      ">>> x2 = np.arange(3.0)\n",
      ">>> np.add(x1, x2)\n",
      "array([[  0.,   2.,   4.],\n",
      "       [  3.,   5.,   7.],\n",
      "       [  6.,   8.,  10.]])\n"
     ]
    }
   ],
   "source": [
    "# help(np.add)\n",
    "'''We can use the help function provided by python or use the numpy info function which loads the docstring\n",
    "for any given function\n",
    "\n",
    "For Interactive Prompts,both of these return the same output\n",
    "'''\n",
    "np.info(np.add)"
   ]
  },
  {
   "cell_type": "markdown",
   "metadata": {},
   "source": [
    "#### 6.  Create a null vector of size 10 but the fifth value which is 1 (★☆☆)"
   ]
  },
  {
   "cell_type": "code",
   "execution_count": 6,
   "metadata": {},
   "outputs": [
    {
     "name": "stdout",
     "output_type": "stream",
     "text": [
      "[0. 0. 0. 0. 1. 0. 0. 0. 0. 0.]\n"
     ]
    }
   ],
   "source": [
    "'''Simple Indexing same as python.'''\n",
    "null_vector=np.zeros(10)\n",
    "null_vector[4]=1\n",
    "print(null_vector)"
   ]
  },
  {
   "cell_type": "markdown",
   "metadata": {},
   "source": [
    "#### 7.  Create a vector with values ranging from 10 to 49 (★☆☆)"
   ]
  },
  {
   "cell_type": "code",
   "execution_count": 13,
   "metadata": {},
   "outputs": [
    {
     "name": "stdout",
     "output_type": "stream",
     "text": [
      "[10 11 12 13 14 15 16 17 18 19 20 21 22 23 24 25 26 27 28 29 30 31 32 33\n",
      " 34 35 36 37 38 39 40 41 42 43 44 45 46 47 48 49]\n"
     ]
    }
   ],
   "source": [
    "'''This Problem can also be done in multiple ways.We can use the arange function given by numpy to do so\n",
    "or we can create a list comprehension in python and pass it to numpy \\'s asarray function '''\n",
    "dynamic_vector=np.arange(10,50)\n",
    "other_vector=np.asarray([i for i in range(10,50)])\n",
    "# print(dynamic_vector,dynamic_vector.shape)\n",
    "print(other_vector)"
   ]
  },
  {
   "cell_type": "markdown",
   "metadata": {},
   "source": [
    "#### 8.  Reverse a vector (first element becomes last) (★☆☆)"
   ]
  },
  {
   "cell_type": "code",
   "execution_count": 14,
   "metadata": {},
   "outputs": [
    {
     "name": "stdout",
     "output_type": "stream",
     "text": [
      "[49 48 47 46 45 44 43 42 41 40 39 38 37 36 35 34 33 32 31 30 29 28 27 26\n",
      " 25 24 23 22 21 20 19 18 17 16 15 14 13 12 11 10]\n"
     ]
    }
   ],
   "source": [
    "'''For this,we can use the slicing reverse technique used in python'''\n",
    "dynamic_vector=np.arange(10,50)[::-1]\n",
    "print(dynamic_vector)\n",
    "# ?np.arange"
   ]
  },
  {
   "cell_type": "markdown",
   "metadata": {},
   "source": [
    "#### 9.  Create a 3x3 matrix with values ranging from 0 to 8 (★☆☆)"
   ]
  },
  {
   "cell_type": "code",
   "execution_count": 15,
   "metadata": {},
   "outputs": [
    {
     "name": "stdout",
     "output_type": "stream",
     "text": [
      "[[0 1 2]\n",
      " [3 4 5]\n",
      " [6 7 8]] (3, 3)\n"
     ]
    }
   ],
   "source": [
    "'''For this,we can use the reshape method given by numpy.Basically this method can convert the source\n",
    "matrix/vector into a shape of our liking if it is possible.Else it gives us an error'''\n",
    "thby3=np.array(np.arange(0,9)).reshape(3,3)\n",
    "# ?np.array\n",
    "print(thby3,thby3.shape)"
   ]
  },
  {
   "cell_type": "markdown",
   "metadata": {},
   "source": [
    "#### 10. Find indices of non-zero elements from \\[1,2,0,0,4,0\\] (★☆☆)"
   ]
  },
  {
   "cell_type": "code",
   "execution_count": 18,
   "metadata": {},
   "outputs": [
    {
     "name": "stdout",
     "output_type": "stream",
     "text": [
      "(array([0, 0, 0]), array([0, 1, 4]))\n",
      "(array([0, 0, 0]), array([0, 1, 4]))\n"
     ]
    }
   ],
   "source": [
    "'''We can do this by using the where function in numpy which gives the indexes based on a given condition \n",
    "or we can use the inbuilt function nonzero which can do the same job'''\n",
    "non_zero=np.array([[1,2,0,0,4,0]])\n",
    "print(np.where(non_zero !=0))\n",
    "print(np.nonzero(non_zero))\n",
    "# ??np.nonzero"
   ]
  },
  {
   "cell_type": "markdown",
   "metadata": {},
   "source": [
    "#### 11. Create a 3x3 identity matrix (★☆☆)"
   ]
  },
  {
   "cell_type": "code",
   "execution_count": 19,
   "metadata": {},
   "outputs": [
    {
     "name": "stdout",
     "output_type": "stream",
     "text": [
      "[[1. 1. 1.]\n",
      " [1. 1. 1.]\n",
      " [1. 1. 1.]]\n"
     ]
    }
   ],
   "source": [
    "'''Using the ones function we can do this or we can create an array and then reshape it'''\n",
    "idmatrix=np.ones((3,3))\n",
    "print(idmatrix)"
   ]
  },
  {
   "cell_type": "markdown",
   "metadata": {},
   "source": [
    "#### 12. Create a 3x3x3 array with random values (★☆☆)"
   ]
  },
  {
   "cell_type": "code",
   "execution_count": 37,
   "metadata": {},
   "outputs": [
    {
     "name": "stdout",
     "output_type": "stream",
     "text": [
      "[[[0.07809135 0.04898578 0.47558162]\n",
      "  [0.9993894  0.02910353 0.71019356]\n",
      "  [0.25686361 0.27938524 0.69425457]]\n",
      "\n",
      " [[0.6065161  0.10396111 0.52118283]\n",
      "  [0.68819857 0.67293342 0.2669946 ]\n",
      "  [0.37315374 0.44858262 0.5486767 ]]\n",
      "\n",
      " [[0.69513921 0.2035966  0.69175945]\n",
      "  [0.76195683 0.22851447 0.15484736]\n",
      "  [0.95394653 0.18001367 0.50401602]]]\n",
      "[[[0.48372124 0.70822352 0.52408378]\n",
      "  [0.26950103 0.43656129 0.93014059]\n",
      "  [0.78892149 0.09945082 0.64039963]]\n",
      "\n",
      " [[0.06276586 0.00274591 0.90125876]\n",
      "  [0.45546816 0.08854011 0.13264544]\n",
      "  [0.35511955 0.27476579 0.88672656]]\n",
      "\n",
      " [[0.70766694 0.25992707 0.29547826]\n",
      "  [0.35738838 0.61586472 0.61227287]\n",
      "  [0.81622363 0.27039751 0.22491028]]]\n"
     ]
    }
   ],
   "source": [
    "'''This can be done in 2 ways.firstly the way that i chose was to create a random number ndarray using m*n*k numbers(27)\n",
    "in this case,and then reshape it into a (m,n,k) matrix.Or we can do this as mentioned in the solutions by directly\n",
    "passing the shape to numpy random classes random method'''\n",
    "\n",
    "new_matrix=np.random.rand(27).reshape((3,3,3))\n",
    "\n",
    "print(new_matrix)\n",
    "print(np.random.random((3,3,3)))"
   ]
  },
  {
   "cell_type": "markdown",
   "metadata": {},
   "source": [
    "\n",
    "#### 13. Create a 10x10 array with random values and find the minimum and maximum values (★☆☆)"
   ]
  },
  {
   "cell_type": "code",
   "execution_count": 49,
   "metadata": {},
   "outputs": [
    {
     "name": "stdout",
     "output_type": "stream",
     "text": [
      "0.024457449668070286 0.9990899170408306\n",
      "0.024457449668070286 0.9990899170408306\n"
     ]
    }
   ],
   "source": [
    "'''This can be done in 2 ways.firstly the way that i chose was to create a random number ndarray by directly\n",
    "passing the shape to numpy random classes random method and passing the created array to the numpy min and max method.Or \n",
    "we can directly call the min and max on the created array itself.'''\n",
    "\n",
    "new_matrix_10=np.random.random((10,10))\n",
    "# print(new_matrix_10)\n",
    "print(np.min(new_matrix_10),np.max(new_matrix_10))\n",
    "print(new_matrix_10.min(),new_matrix_10.max())"
   ]
  },
  {
   "cell_type": "markdown",
   "metadata": {},
   "source": [
    "#### 14. Create a random vector of size 30 and find the mean value (★☆☆)"
   ]
  },
  {
   "cell_type": "code",
   "execution_count": 55,
   "metadata": {},
   "outputs": [
    {
     "name": "stdout",
     "output_type": "stream",
     "text": [
      "0.4872822640639497\n"
     ]
    }
   ],
   "source": [
    "'''We can do this by calling the mean method on our created numpy array created using the random.random method'''\n",
    "new_array_30=np.random.random(30)\n",
    "print(new_array_30.mean())"
   ]
  },
  {
   "cell_type": "markdown",
   "metadata": {},
   "source": [
    "#### 15. Create a 2d array with 1 on the border and 0 inside (★☆☆)"
   ]
  },
  {
   "cell_type": "code",
   "execution_count": 90,
   "metadata": {},
   "outputs": [
    {
     "name": "stdout",
     "output_type": "stream",
     "text": [
      "[[1. 1. 1. 1. 1. 1. 1. 1. 1. 1.]\n",
      " [1. 0. 0. 0. 0. 0. 0. 0. 0. 1.]\n",
      " [1. 0. 0. 0. 0. 0. 0. 0. 0. 1.]\n",
      " [1. 0. 0. 0. 0. 0. 0. 0. 0. 1.]\n",
      " [1. 0. 0. 0. 0. 0. 0. 0. 0. 1.]\n",
      " [1. 0. 0. 0. 0. 0. 0. 0. 0. 1.]\n",
      " [1. 0. 0. 0. 0. 0. 0. 0. 0. 1.]\n",
      " [1. 0. 0. 0. 0. 0. 0. 0. 0. 1.]\n",
      " [1. 0. 0. 0. 0. 0. 0. 0. 0. 1.]\n",
      " [1. 1. 1. 1. 1. 1. 1. 1. 1. 1.]]\n"
     ]
    }
   ],
   "source": [
    "'''We can do this via simple indexing logic.For any given matrix of size m X n or m X m or n X n.We need to fill zeroes\n",
    "in rows from the first row and column(Because the border will cover the first row,first column and last row last column) \n",
    "so this should run from the first row and first column to the last row -1 and last column -1'''\n",
    "\n",
    "m,n=10,10\n",
    "arrayzeroes=np.ones((m,n))\n",
    "arrayzeroes[1:m-1,1:n-1]=0\n",
    "print(arrayzeroes)"
   ]
  },
  {
   "cell_type": "markdown",
   "metadata": {},
   "source": [
    "#### 16. How to add a border (filled with 0's) around an existing array? (★☆☆)"
   ]
  },
  {
   "cell_type": "code",
   "execution_count": 29,
   "metadata": {},
   "outputs": [
    {
     "name": "stdout",
     "output_type": "stream",
     "text": [
      "[[1. 1. 1. 1. 1.]\n",
      " [1. 1. 1. 1. 1.]\n",
      " [1. 1. 1. 1. 1.]\n",
      " [1. 1. 1. 1. 1.]]\n"
     ]
    },
    {
     "data": {
      "text/plain": [
       "array([[0., 0., 0., 0., 0., 0., 0.],\n",
       "       [0., 1., 1., 1., 1., 1., 0.],\n",
       "       [0., 1., 1., 1., 1., 1., 0.],\n",
       "       [0., 1., 1., 1., 1., 1., 0.],\n",
       "       [0., 1., 1., 1., 1., 1., 0.],\n",
       "       [0., 0., 0., 0., 0., 0., 0.]])"
      ]
     },
     "execution_count": 29,
     "metadata": {},
     "output_type": "execute_result"
    }
   ],
   "source": [
    "'''We can do this using the numpy pad function.For this,we can also use methods like insert,vstack and hstack.'''\n",
    "m,n=4,5\n",
    "\n",
    "outer_border_matrix=np.ones((m,n))\n",
    "print(outer_border_matrix)\n",
    "np.pad(outer_border_matrix,(1),'constant')"
   ]
  },
  {
   "cell_type": "markdown",
   "metadata": {},
   "source": [
    "#### 17. What is the result of the following expression? (★☆☆)"
   ]
  },
  {
   "cell_type": "markdown",
   "metadata": {},
   "source": [
    "```python\n",
    "0 * np.nan\n",
    "np.nan == np.nan\n",
    "np.inf > np.nan\n",
    "np.nan - np.nan\n",
    "np.nan in set([np.nan])\n",
    "0.3 == 3 * 0.1\n",
    "```"
   ]
  },
  {
   "cell_type": "code",
   "execution_count": 40,
   "metadata": {},
   "outputs": [
    {
     "name": "stdout",
     "output_type": "stream",
     "text": [
      "nan\n",
      "False\n",
      "False\n",
      "nan\n",
      "True\n",
      "False\n"
     ]
    }
   ],
   "source": [
    "print(0*np.nan)\n",
    "print(np.nan==np.nan)\n",
    "print(np.inf>np.nan)\n",
    "print(np.nan-np.nan)\n",
    "print(np.nan in set([np.nan]))\n",
    "print(0.3==3*0.1)"
   ]
  },
  {
   "cell_type": "markdown",
   "metadata": {},
   "source": [
    "#### 18. Create a 5x5 matrix with values 1,2,3,4 just below the diagonal (★☆☆)"
   ]
  },
  {
   "cell_type": "code",
   "execution_count": 14,
   "metadata": {},
   "outputs": [
    {
     "name": "stdout",
     "output_type": "stream",
     "text": [
      "[[ 0  1  2  3  4]\n",
      " [ 1  6  7  8  9]\n",
      " [10  2 12 13 14]\n",
      " [15 16  3 18 19]\n",
      " [20 21 22  4 24]]\n"
     ]
    }
   ],
   "source": [
    "'''This can be done by using the np.diag method(Just found this function) or \n",
    "we can manually use the indices of the elements to do so.Although this will not work for any other matrix,for\n",
    "this question this is ok'''\n",
    "\n",
    "fivex5matrix=np.arange(25).reshape(5,5)\n",
    "# print(fivex5matrix)\n",
    "fivex5matrix[1,0]=1\n",
    "fivex5matrix[2,1]=2\n",
    "fivex5matrix[3,2]=3\n",
    "fivex5matrix[4,3]=4\n",
    "print(fivex5matrix)"
   ]
  },
  {
   "cell_type": "markdown",
   "metadata": {},
   "source": [
    "#### 19. Create a 8x8 matrix and fill it with a checkerboard pattern (★☆☆)"
   ]
  },
  {
   "cell_type": "code",
   "execution_count": 45,
   "metadata": {},
   "outputs": [
    {
     "data": {
      "text/plain": [
       "array([[0., 1., 0., 1., 0., 1., 0., 1.],\n",
       "       [0., 1., 0., 1., 0., 1., 0., 1.],\n",
       "       [0., 1., 0., 1., 0., 1., 0., 1.],\n",
       "       [0., 1., 0., 1., 0., 1., 0., 1.],\n",
       "       [0., 1., 0., 1., 0., 1., 0., 1.],\n",
       "       [0., 1., 0., 1., 0., 1., 0., 1.],\n",
       "       [0., 1., 0., 1., 0., 1., 0., 1.],\n",
       "       [0., 1., 0., 1., 0., 1., 0., 1.]])"
      ]
     },
     "execution_count": 45,
     "metadata": {},
     "output_type": "execute_result"
    }
   ],
   "source": [
    "'''Hackey Method.Create a 8x8 matrix and then unroll it into one big vector using ravel.Then turn \n",
    "every alternate value into a zero or one(as needed) and then call the reshape command'''\n",
    "checkmatrix=np.ones((8,8)).ravel()\n",
    "checkmatrix[0::2]=0\n",
    "checkmatrix.reshape((8,8))"
   ]
  },
  {
   "cell_type": "markdown",
   "metadata": {},
   "source": [
    "#### 20. Consider a (6,7,8) shape array, what is the index (x,y,z) of the 100th element?"
   ]
  },
  {
   "cell_type": "code",
   "execution_count": 55,
   "metadata": {},
   "outputs": [
    {
     "data": {
      "text/plain": [
       "(1, 5, 4)"
      ]
     },
     "execution_count": 55,
     "metadata": {},
     "output_type": "execute_result"
    }
   ],
   "source": [
    "'''This function basically returns us the index at whihc the elment is to be found.We can also pass a list of\n",
    "indices to search upon also'''\n",
    "\n",
    "newarray=np.random.random((6,7,8))\n",
    "np.unravel_index(100,(6,7,8))"
   ]
  },
  {
   "cell_type": "markdown",
   "metadata": {},
   "source": [
    "#### 21. Create a checkerboard 8x8 matrix using the tile function (★☆☆)"
   ]
  },
  {
   "cell_type": "code",
   "execution_count": 61,
   "metadata": {},
   "outputs": [
    {
     "data": {
      "text/plain": [
       "array([[0, 1, 0, 1, 0, 1, 0, 1],\n",
       "       [0, 1, 0, 1, 0, 1, 0, 1],\n",
       "       [0, 1, 0, 1, 0, 1, 0, 1],\n",
       "       [0, 1, 0, 1, 0, 1, 0, 1],\n",
       "       [0, 1, 0, 1, 0, 1, 0, 1],\n",
       "       [0, 1, 0, 1, 0, 1, 0, 1],\n",
       "       [0, 1, 0, 1, 0, 1, 0, 1],\n",
       "       [0, 1, 0, 1, 0, 1, 0, 1]])"
      ]
     },
     "execution_count": 61,
     "metadata": {},
     "output_type": "execute_result"
    }
   ],
   "source": [
    "'''The tile function basically repeats a given array n number of times.So for this we can repeat our single row \n",
    "8 no of times and the column should be just given a single value(1) so that the values are repeated along the \n",
    "columnaxis just once.'''\n",
    "\n",
    "newarray=np.array([0,1,0,1,0,1,0,1])\n",
    "np.tile(newarray,((8,1)))"
   ]
  },
  {
   "cell_type": "markdown",
   "metadata": {},
   "source": [
    "#### 22. Normalize a 5x5 random matrix (★☆☆)"
   ]
  },
  {
   "cell_type": "code",
   "execution_count": 76,
   "metadata": {},
   "outputs": [
    {
     "name": "stdout",
     "output_type": "stream",
     "text": [
      "[[0.51099193 0.66140224 0.44830203 0.19321164 0.65814295]\n",
      " [0.20223691 0.34620438 0.02645046 0.78087928 0.37897902]\n",
      " [0.63919224 0.23977047 0.06149836 0.36376474 0.63215891]\n",
      " [0.0155844  0.40818607 0.71835942 0.61074759 0.8811245 ]\n",
      " [0.09774466 0.01534684 0.15358355 0.9697329  0.47281814]]\n",
      "0.028139673339381156\n",
      "[[18.15912801 23.50426161 15.93131621  6.86616488 23.38843613]\n",
      " [ 7.18689602 12.30307047  0.93997038 27.75011902 13.46778328]\n",
      " [22.71498447  8.52072694  2.185468   12.92711317 22.46504075]\n",
      " [ 0.55382317 14.50571459 25.5283498  21.70414651 31.31253468]\n",
      " [ 3.47355349  0.54538102  5.45790103 34.46141275 16.80254543]]\n"
     ]
    }
   ],
   "source": [
    "'''To normalize a matrix,means to divide the individual elements of a matrix by the determinant of the matrix.\n",
    "The determinant is a special value unique to a matrix.This can be calculated by taking the minors along each \n",
    "row of the matrix.Refer to this link https://en.wikipedia.org/wiki/Determinant'''\n",
    "\n",
    "normalizematrinx=np.random.random((5,5))\n",
    "determinant=np.linalg.det(normalizematrinx)\n",
    "normalizematrinx/=determinant\n",
    "\n",
    "print(normalizematrinx)"
   ]
  },
  {
   "cell_type": "markdown",
   "metadata": {},
   "source": [
    "#### 23. Create a custom dtype that describes a color as four unsigned bytes (RGBA) (★☆☆)"
   ]
  },
  {
   "cell_type": "code",
   "execution_count": null,
   "metadata": {
    "collapsed": true
   },
   "outputs": [],
   "source": []
  },
  {
   "cell_type": "markdown",
   "metadata": {},
   "source": [
    "#### 24. Multiply a 5x3 matrix by a 3x2 matrix (real matrix product) (★☆☆)"
   ]
  },
  {
   "cell_type": "code",
   "execution_count": 44,
   "metadata": {},
   "outputs": [
    {
     "name": "stdout",
     "output_type": "stream",
     "text": [
      "[[0.95661141 0.64514016]\n",
      " [0.66807619 0.31910586]\n",
      " [0.57827602 0.24663639]\n",
      " [0.68355174 0.3410374 ]\n",
      " [0.61122    0.33484139]]\n",
      "[[0.95661141 0.64514016]\n",
      " [0.66807619 0.31910586]\n",
      " [0.57827602 0.24663639]\n",
      " [0.68355174 0.3410374 ]\n",
      " [0.61122    0.33484139]]\n"
     ]
    }
   ],
   "source": [
    "'''We can do this by 2 methods.Firstly we can use the dot method on a given matrix and multiply it with the second matrix\n",
    "as shown.Or we can use the @ operator(overloaded operator) to perform the same operation.This syntax is becoming\n",
    "increasingly common so its good to use this syntax.'''\n",
    "\n",
    "n5X3=np.random.random((5,3))\n",
    "n3x2=np.random.random((3,2))\n",
    "\n",
    "print(n5X3 @ n3x2)\n",
    "print(n5X3.dot(n3x2))"
   ]
  },
  {
   "cell_type": "markdown",
   "metadata": {},
   "source": [
    "#### 25. Given a 1D array, negate all elements which are between 3 and 8, in place. (★☆☆)"
   ]
  },
  {
   "cell_type": "code",
   "execution_count": 110,
   "metadata": {},
   "outputs": [
    {
     "data": {
      "text/plain": [
       "array([99, 98, 97, 96, 95, 94, 93, 92, 91, 90, 89, 88, 87, 86, 85, 84, 83,\n",
       "       82, 81, 80, 79, 78, 77, 76, 75, 74, 73, 72, 71, 70, 69, 68, 67, 66,\n",
       "       65, 64, 63, 62, 61, 60, 59, 58, 57, 56, 55, 54, 53, 52, 51, 50, 49,\n",
       "       48, 47, 46, 45, 44, 43, 42, 41, 40, 39, 38, 37, 36, 35, 34, 33, 32,\n",
       "       31, 30, 29, 28, 27, 26, 25, 24, 23, 22, 21, 20, 19, 18, 17, 16, 15,\n",
       "       14, 13, 12, 11, 10,  9, -8, -7, -6, -5, -4,  3,  2,  1,  0])"
      ]
     },
     "execution_count": 110,
     "metadata": {},
     "output_type": "execute_result"
    }
   ],
   "source": [
    "'''Negation in numpy means that we simply return the multiplication of the value with a single -1.Was trying to solve\n",
    "this usin numpy functions when i realised i did not need those functions.'''\n",
    "\n",
    "onedarray=np.arange(100)[::-1]\n",
    "onedarray[(onedarray>3) & (onedarray<=8)] *=-1\n",
    "onedarray"
   ]
  },
  {
   "cell_type": "markdown",
   "metadata": {},
   "source": [
    "#### 26. What is the output of the following script? (★☆☆)"
   ]
  },
  {
   "cell_type": "markdown",
   "metadata": {},
   "source": [
    "```python\n",
    "# Author: Jake VanderPlas\n",
    "\n",
    "print(sum(range(5),-1))\n",
    "from numpy import *\n",
    "print(sum(range(5),-1))\n",
    "```"
   ]
  },
  {
   "cell_type": "code",
   "execution_count": 121,
   "metadata": {},
   "outputs": [
    {
     "name": "stdout",
     "output_type": "stream",
     "text": [
      "10\n",
      "10\n"
     ]
    }
   ],
   "source": [
    "'''The second arg to sum reffers to the starting index from which the summation should take place.\n",
    "But for the np.sum function,the second arg reffers to the axis along which the sum is to be performed and in this case,\n",
    "the axis -1 reffers to a sum along the row hence we get the sum as 10'''\n",
    "print(sum(range(5),-1))\n",
    "from numpy import *\n",
    "print(sum(range(5),-1))"
   ]
  },
  {
   "cell_type": "markdown",
   "metadata": {},
   "source": [
    "#### 27. Consider an integer vector Z, which of these expressions are legal? (★☆☆)"
   ]
  },
  {
   "cell_type": "markdown",
   "metadata": {},
   "source": [
    "```python\n",
    "Z**Z\n",
    "2 << Z >> 2\n",
    "Z <- Z\n",
    "1j*Z\n",
    "Z/1/1\n",
    "Z<Z>Z\n",
    "```"
   ]
  },
  {
   "cell_type": "code",
   "execution_count": 132,
   "metadata": {},
   "outputs": [
    {
     "ename": "ValueError",
     "evalue": "The truth value of an array with more than one element is ambiguous. Use a.any() or a.all()",
     "output_type": "error",
     "traceback": [
      "\u001b[0;31m---------------------------------------------------------------------------\u001b[0m",
      "\u001b[0;31mValueError\u001b[0m                                Traceback (most recent call last)",
      "\u001b[0;32m<ipython-input-132-bd894da3e599>\u001b[0m in \u001b[0;36m<module>\u001b[0;34m()\u001b[0m\n\u001b[1;32m      3\u001b[0m \u001b[0mintvector\u001b[0m\u001b[0;34m/\u001b[0m\u001b[0;36m1\u001b[0m\u001b[0;34m/\u001b[0m\u001b[0;36m1\u001b[0m\u001b[0;34m\u001b[0m\u001b[0m\n\u001b[1;32m      4\u001b[0m \u001b[0mintvector\u001b[0m \u001b[0;34m<\u001b[0m \u001b[0;34m-\u001b[0m\u001b[0mintvector\u001b[0m\u001b[0;34m\u001b[0m\u001b[0m\n\u001b[0;32m----> 5\u001b[0;31m \u001b[0mintvector\u001b[0m\u001b[0;34m<\u001b[0m\u001b[0mintvector\u001b[0m\u001b[0;34m>\u001b[0m\u001b[0mintvector\u001b[0m\u001b[0;34m\u001b[0m\u001b[0m\n\u001b[0m\u001b[1;32m      6\u001b[0m \u001b[0;36m2\u001b[0m\u001b[0;34m<<\u001b[0m\u001b[0mintvector\u001b[0m\u001b[0;34m>>\u001b[0m\u001b[0;36m2\u001b[0m\u001b[0;34m\u001b[0m\u001b[0m\n\u001b[1;32m      7\u001b[0m \u001b[0;34m\u001b[0m\u001b[0m\n",
      "\u001b[0;31mValueError\u001b[0m: The truth value of an array with more than one element is ambiguous. Use a.any() or a.all()"
     ]
    }
   ],
   "source": [
    "intvector=np.array(range(5))\n",
    "intvector**intvector\n",
    "intvector/1/1\n",
    "intvector < -intvector\n",
    "intvector<intvector>intvector\n",
    "2<<intvector>>2\n",
    "\n",
    "'''THe only expression in this set which is illegal is the 6th expression as we cannot compute less than or greater\n",
    "than operations for an entire array.These operations need to be performed element wise which can be done using & or |\n",
    "operators(and operator or operator)'''"
   ]
  },
  {
   "cell_type": "markdown",
   "metadata": {},
   "source": [
    "#### 28. What are the result of the following expressions?"
   ]
  },
  {
   "cell_type": "markdown",
   "metadata": {},
   "source": [
    "```python\n",
    "np.array(0) / np.array(0)\n",
    "np.array(0) // np.array(0)\n",
    "np.array([np.nan]).astype(int).astype(float)\n",
    "```"
   ]
  },
  {
   "cell_type": "code",
   "execution_count": 133,
   "metadata": {},
   "outputs": [
    {
     "data": {
      "text/plain": [
       "nan"
      ]
     },
     "execution_count": 133,
     "metadata": {},
     "output_type": "execute_result"
    }
   ],
   "source": [
    "np.array(0) / np.array(0)"
   ]
  },
  {
   "cell_type": "code",
   "execution_count": 134,
   "metadata": {},
   "outputs": [
    {
     "data": {
      "text/plain": [
       "0"
      ]
     },
     "execution_count": 134,
     "metadata": {},
     "output_type": "execute_result"
    }
   ],
   "source": [
    "np.array(0) // np.array(0)"
   ]
  },
  {
   "cell_type": "code",
   "execution_count": 135,
   "metadata": {},
   "outputs": [
    {
     "data": {
      "text/plain": [
       "array([-9.22337204e+18])"
      ]
     },
     "execution_count": 135,
     "metadata": {},
     "output_type": "execute_result"
    }
   ],
   "source": [
    "np.array([np.nan]).astype(int).astype(float)"
   ]
  },
  {
   "cell_type": "markdown",
   "metadata": {},
   "source": [
    "#### 29. How to round away from zero a float array ? (★☆☆)"
   ]
  },
  {
   "cell_type": "code",
   "execution_count": null,
   "metadata": {
    "collapsed": true
   },
   "outputs": [],
   "source": []
  },
  {
   "cell_type": "markdown",
   "metadata": {},
   "source": [
    "#### 30. How to find common values between two arrays? (★☆☆)"
   ]
  },
  {
   "cell_type": "code",
   "execution_count": 139,
   "metadata": {},
   "outputs": [
    {
     "data": {
      "text/plain": [
       "array([ 0,  1,  2,  3,  4,  5,  6,  7,  8,  9, 10, 11, 12, 13, 14, 15, 16,\n",
       "       17, 18, 19, 20, 21, 22, 23, 24, 25, 26, 27, 28, 29, 30, 31, 32, 33,\n",
       "       34, 35, 36, 37, 38, 39, 40, 41, 42, 43, 44, 45, 46, 47, 48, 49, 50,\n",
       "       51, 52, 53, 54, 55, 56, 57, 58, 59, 60, 61, 62, 63, 64, 65, 66, 67,\n",
       "       68, 69, 70, 71, 72, 73, 74, 75, 76, 77, 78, 79, 80, 81, 82, 83, 84,\n",
       "       85, 86, 87, 88, 89, 90, 91, 92, 93, 94, 95, 96, 97, 98, 99])"
      ]
     },
     "execution_count": 139,
     "metadata": {},
     "output_type": "execute_result"
    }
   ],
   "source": [
    "# np.lookfor(\"common\")\n",
    "# ?np.intersect1d\n",
    "\n",
    "'''The intersect1d function accepts 2 arrays as parameters and then returns the common elements in both those arrays'''\n",
    "\n",
    "firstarray=np.arange(100)\n",
    "secondarray=np.arange(200)\n",
    "\n",
    "common=np.intersect1d(firstarray,secondarray)\n",
    "common"
   ]
  },
  {
   "cell_type": "markdown",
   "metadata": {},
   "source": [
    "#### 31. How to ignore all numpy warnings (not recommended)? (★☆☆)"
   ]
  },
  {
   "cell_type": "code",
   "execution_count": null,
   "metadata": {
    "collapsed": true
   },
   "outputs": [],
   "source": []
  },
  {
   "cell_type": "markdown",
   "metadata": {},
   "source": [
    "#### 32. Is the following expressions true? (★☆☆)"
   ]
  },
  {
   "cell_type": "markdown",
   "metadata": {},
   "source": [
    "```python\n",
    "np.sqrt(-1) == np.emath.sqrt(-1)\n",
    "```"
   ]
  },
  {
   "cell_type": "code",
   "execution_count": 140,
   "metadata": {
    "collapsed": true
   },
   "outputs": [],
   "source": [
    "'''The following expression is not true as both these numbers are negative,the sqrt for negative no is not defined\n",
    "for np.sqrt function but is defined for the np.emath.sqrt function.'''\n",
    "# ?np.emath.sqrt\n",
    "# ?np.sqrt"
   ]
  },
  {
   "cell_type": "markdown",
   "metadata": {},
   "source": [
    "#### 33. How to get the dates of yesterday, today and tomorrow? (★☆☆)"
   ]
  },
  {
   "cell_type": "code",
   "execution_count": 151,
   "metadata": {},
   "outputs": [
    {
     "data": {
      "text/plain": [
       "array(['2019-03-31', '2019-04-01', '2019-04-02'], dtype='datetime64[D]')"
      ]
     },
     "execution_count": 151,
     "metadata": {},
     "output_type": "execute_result"
    }
   ],
   "source": [
    "# np.lookfor(\"today\")\n",
    "np.array(['2019-03-31','2019-04-01','2019-04-02'],dtype=datetime64)"
   ]
  },
  {
   "cell_type": "markdown",
   "metadata": {},
   "source": [
    "#### 34. How to get all the dates corresponding to the month of July 2016? (★★☆)"
   ]
  },
  {
   "cell_type": "code",
   "execution_count": 153,
   "metadata": {},
   "outputs": [
    {
     "data": {
      "text/plain": [
       "array(['2016-07-01', '2016-07-02', '2016-07-03', '2016-07-04',\n",
       "       '2016-07-05', '2016-07-06', '2016-07-07', '2016-07-08',\n",
       "       '2016-07-09', '2016-07-10', '2016-07-11', '2016-07-12',\n",
       "       '2016-07-13', '2016-07-14', '2016-07-15', '2016-07-16',\n",
       "       '2016-07-17', '2016-07-18', '2016-07-19', '2016-07-20',\n",
       "       '2016-07-21', '2016-07-22', '2016-07-23', '2016-07-24',\n",
       "       '2016-07-25', '2016-07-26', '2016-07-27', '2016-07-28',\n",
       "       '2016-07-29', '2016-07-30', '2016-07-31'], dtype='datetime64[D]')"
      ]
     },
     "execution_count": 153,
     "metadata": {},
     "output_type": "execute_result"
    }
   ],
   "source": [
    "'''The dtype datetime64 can be used to render the dates for a particular month by providing the np.arange mehtod\n",
    "with the starting and ending dates using which it renders the dates within the given time period'''\n",
    "\n",
    "np.arange('2016-07-01','2016-08-01',dtype=datetime64)"
   ]
  },
  {
   "cell_type": "markdown",
   "metadata": {},
   "source": [
    "#### 35. How to compute ((A+B)\\*(-A/2)) in place (without copy)? (★★☆)"
   ]
  },
  {
   "cell_type": "code",
   "execution_count": null,
   "metadata": {
    "collapsed": true
   },
   "outputs": [],
   "source": []
  },
  {
   "cell_type": "markdown",
   "metadata": {},
   "source": [
    "#### 36. Extract the integer part of a random array using 5 different methods (★★☆)"
   ]
  },
  {
   "cell_type": "code",
   "execution_count": null,
   "metadata": {
    "collapsed": true
   },
   "outputs": [],
   "source": []
  },
  {
   "cell_type": "markdown",
   "metadata": {},
   "source": [
    "#### 37. Create a 5x5 matrix with row values ranging from 0 to 4 (★★☆)"
   ]
  },
  {
   "cell_type": "code",
   "execution_count": 20,
   "metadata": {},
   "outputs": [
    {
     "name": "stdout",
     "output_type": "stream",
     "text": [
      "[[0. 1. 2. 3. 4.]\n",
      " [0. 1. 2. 3. 4.]\n",
      " [0. 1. 2. 3. 4.]\n",
      " [0. 1. 2. 3. 4.]\n",
      " [0. 1. 2. 3. 4.]]\n"
     ]
    }
   ],
   "source": [
    "'''We can generate an initial matrix using zeros or random module.Then for each row,we can replace it with the \n",
    "arange list values.Or we can append a single list of values ranging from 0,4'''\n",
    "\n",
    "init_matrix=np.zeros((5,5))\n",
    "init_matrix+=np.arange(5)\n",
    "print(init_matrix)"
   ]
  },
  {
   "cell_type": "markdown",
   "metadata": {},
   "source": [
    "#### 38. Consider a generator function that generates 10 integers and use it to build an array (★☆☆)"
   ]
  },
  {
   "cell_type": "code",
   "execution_count": 16,
   "metadata": {},
   "outputs": [
    {
     "name": "stdout",
     "output_type": "stream",
     "text": [
      "<generator object <genexpr> at 0x7f04bca88f10>\n",
      "[ 0  1  2  3  4  5  6  7  8  9 10]\n"
     ]
    }
   ],
   "source": [
    "'''The np.from iter function allows us to generate an array from  a generator expression'''\n",
    "\n",
    "generator_exp=(i for i in range(11))\n",
    "print(np.fromiter(generator_exp,dtype=int))"
   ]
  },
  {
   "cell_type": "markdown",
   "metadata": {},
   "source": [
    "#### 39. Create a vector of size 10 with values ranging from 0 to 1, both excluded (★★☆)"
   ]
  },
  {
   "cell_type": "code",
   "execution_count": 162,
   "metadata": {},
   "outputs": [
    {
     "data": {
      "text/plain": [
       "array([0.09090909, 0.18181818, 0.27272727, 0.36363636, 0.45454545,\n",
       "       0.54545455, 0.63636364, 0.72727273, 0.81818182, 0.90909091])"
      ]
     },
     "execution_count": 162,
     "metadata": {},
     "output_type": "execute_result"
    }
   ],
   "source": [
    "'''Using the np.linspace function we can create random numbers within a given interval range.It has an argument \n",
    "endpoint which specifies whetehr to include the last elment or not.Zero is by default included so we can just\n",
    "start our indexing process from the next element after zero'''\n",
    "\n",
    "np.linspace(0,1,11,endpoint=False)[1:]"
   ]
  },
  {
   "cell_type": "markdown",
   "metadata": {},
   "source": [
    "#### 40. Create a random vector of size 10 and sort it (★★☆)"
   ]
  },
  {
   "cell_type": "code",
   "execution_count": 164,
   "metadata": {},
   "outputs": [
    {
     "data": {
      "text/plain": [
       "array([0.        , 0.11111111, 0.22222222, 0.33333333, 0.44444444,\n",
       "       0.55555556, 0.66666667, 0.77777778, 0.88888889, 1.        ])"
      ]
     },
     "execution_count": 164,
     "metadata": {},
     "output_type": "execute_result"
    }
   ],
   "source": [
    "'''Create a random matrix using any method and just use the sort method like this or directly on the array.'''\n",
    "np.sort(np.linspace(0,1,10))"
   ]
  },
  {
   "cell_type": "markdown",
   "metadata": {},
   "source": [
    "#### 41. How to sum a small array faster than np.sum? (★★☆)"
   ]
  },
  {
   "cell_type": "code",
   "execution_count": 43,
   "metadata": {},
   "outputs": [
    {
     "name": "stdout",
     "output_type": "stream",
     "text": [
      "Search results for 'sum'\n",
      "------------------------\n",
      "numpy.sum\n",
      "    Sum of array elements over a given axis.\n",
      "numpy.cumsum\n",
      "    Return the cumulative sum of the elements along a given axis.\n",
      "numpy.einsum\n",
      "    einsum(subscripts, *operands, out=None, dtype=None, order='K',\n",
      "numpy.nansum\n",
      "    Return the sum of array elements over a given axis treating Not a\n",
      "numpy.nancumsum\n",
      "    Return the cumulative sum of array elements over a given axis treating Not a\n",
      "numpy.einsum_path\n",
      "    Evaluates the lowest cost contraction order for an einsum expression by\n",
      "numpy.trace\n",
      "    Return the sum along diagonals of the array.\n",
      "numpy.ma.sum\n",
      "    Return the sum of the array elements over the given axis.\n",
      "numpy.polyadd\n",
      "    Find the sum of two polynomials.\n",
      "numpy.ma.cumsum\n",
      "    Return the cumulative sum of the array elements over the given axis.\n",
      "numpy.logaddexp\n",
      "    Logarithm of the sum of exponentiations of the inputs.\n",
      "numpy.matrix.sum\n",
      "    Returns the sum of the matrix elements, along the given axis.\n",
      "numpy.logaddexp2\n",
      "    Logarithm of the sum of exponentiations of the inputs in base-2.\n",
      "numpy.chararray.sum\n",
      "    Return the sum of the array elements over the given axis.\n",
      "numpy.mask_indices\n",
      "    Return the indices to access (n, n) arrays, given a masking function.\n",
      "numpy.chararray.cumsum\n",
      "    Return the cumulative sum of the elements along the given axis.\n",
      "numpy.chararray.trace\n",
      "    Return the sum along diagonals of the array.\n",
      "numpy.format_float_positional\n",
      "    Format a floating-point scalar as a decimal string in positional notation.\n",
      "numpy.format_float_scientific\n",
      "    Format a floating-point scalar as a decimal string in scientific notation.\n",
      "numpy.linalg.tensorsolve\n",
      "    Solve the tensor equation ``a x = b`` for x.\n",
      "numpy.ma.MaskedArray.sum\n",
      "    Return the sum of the array elements over the given axis.\n",
      "numpy.ma.MaskedArray.cumsum\n",
      "    Return the cumulative sum of the array elements over the given axis.\n",
      "numpy.PackageLoader.get_pkgdocs\n",
      "    Return documentation summary of subpackages.\n",
      "numpy.ma.MaskedArray.trace\n",
      "    Return the sum along diagonals of the array.\n",
      "numpy.polynomial.Hermite._add\n",
      "    Add one Hermite series to another.\n",
      "numpy.polynomial.HermiteE._add\n",
      "    Add one Hermite series to another.\n",
      "numpy.polynomial.Laguerre._add\n",
      "    Add one Laguerre series to another.\n",
      "numpy.polynomial.Legendre._add\n",
      "    Add one Legendre series to another.\n",
      "numpy.polynomial.Chebyshev._add\n",
      "    Add one Chebyshev series to another.\n",
      "numpy.polynomial.Polynomial._add\n",
      "    Add one polynomial to another.\n",
      "numpy.AxisError.__class__.__sizeof__\n",
      "    __sizeof__() -> int\n",
      "numpy.fv\n",
      "    Compute the future value.\n",
      "numpy.pv\n",
      "    Compute the present value.\n",
      "numpy.add\n",
      "    Add arguments element-wise.\n",
      "numpy.all\n",
      "    Test whether all array elements along a given axis evaluate to True.\n",
      "numpy.any\n",
      "    Test whether any array element along a given axis evaluates to True.\n",
      "numpy.cov\n",
      "    Estimate a covariance matrix, given data and weights.\n",
      "numpy.dot\n",
      "    Dot product of two arrays. Specifically,\n",
      "numpy.irr\n",
      "    Return the Internal Rate of Return (IRR).\n",
      "numpy.npv\n",
      "    Returns the NPV (Net Present Value) of a cash flow series.\n",
      "numpy.std\n",
      "    Compute the standard deviation along the specified axis.\n",
      "numpy.var\n",
      "    Compute the variance along the specified axis.\n",
      "numpy.amax\n",
      "    Return the maximum of an array or maximum along an axis.\n",
      "numpy.amin\n",
      "    Return the minimum of an array or minimum along an axis.\n",
      "numpy.core.setup_common.get_api_versions\n",
      "    Return current C API checksum and the recorded checksum.\n",
      "numpy.diag\n",
      "    Extract a diagonal or construct a diagonal array.\n",
      "numpy.diff\n",
      "    Calculate the n-th discrete difference along the given axis.\n",
      "numpy.in1d\n",
      "    Test whether each element of a 1-D array is also present in a second array.\n",
      "numpy.ipmt\n",
      "    Compute the interest portion of a payment.\n",
      "numpy.isin\n",
      "    Calculates `element in test_elements`, broadcasting over `element` only.\n",
      "numpy.kron\n",
      "    Kronecker product of two arrays.\n",
      "numpy.mean\n",
      "    Compute the arithmetic mean along the specified axis.\n",
      "numpy.prod\n",
      "    Return the product of array elements over a given axis.\n",
      "numpy.cross\n",
      "    Return the cross product of two (arrays of) vectors.\n",
      "numpy.inner\n",
      "    Inner product of two arrays.\n",
      "numpy.outer\n",
      "    Compute the outer product of two vectors.\n",
      "numpy.trapz\n",
      "    Integrate along the given axis using the composite trapezoidal rule.\n",
      "numpy.choose\n",
      "    Construct an array from an index array and a set of arrays to choose from.\n",
      "numpy.matmul\n",
      "    Matrix product of two arrays.\n",
      "numpy.nanstd\n",
      "    Compute the standard deviation along the specified axis, while\n",
      "numpy.nanvar\n",
      "    Compute the variance along the specified axis, while ignoring NaNs.\n",
      "numpy.nditer\n",
      "    Efficient multi-dimensional iterator object to iterate over arrays.\n",
      "numpy.average\n",
      "    Compute the weighted average along the specified axis.\n",
      "numpy.nanmean\n",
      "    Compute the arithmetic mean along the specified axis, ignoring NaNs.\n",
      "numpy.nanprod\n",
      "    Return the product of array elements over a given axis treating Not a\n",
      "numpy.polyfit\n",
      "    Least squares polynomial fit.\n",
      "numpy.polyint\n",
      "    Return an antiderivative (indefinite integral) of a polynomial.\n",
      "numpy.bincount\n",
      "    Count number of occurrences of each value in array of non-negative ints.\n",
      "numpy.blackman\n",
      "    Return the Blackman window.\n",
      "numpy.convolve\n",
      "    Returns the discrete, linear convolution of two one-dimensional sequences.\n",
      "numpy.diagflat\n",
      "    Create a two-dimensional array with the flattened input as a diagonal.\n",
      "numpy.diagonal\n",
      "    Return specified diagonals.\n",
      "numpy.gradient\n",
      "    Return the gradient of an N-dimensional array.\n",
      "numpy.setxor1d\n",
      "    Find the set exclusive-or of two arrays.\n",
      "numpy.correlate\n",
      "    Cross-correlation of two 1-dimensional sequences.\n",
      "numpy.histogram\n",
      "    Compute the histogram of a set of data.\n",
      "numpy.piecewise\n",
      "    Evaluate a piecewise-defined function.\n",
      "numpy.setdiff1d\n",
      "    Find the set difference of two arrays.\n",
      "numpy.tensordot\n",
      "    Compute tensor dot product along specified axes for arrays >= 1-D.\n",
      "numpy.vectorize\n",
      "    vectorize(pyfunc, otypes=None, doc=None, excluded=None, cache=False,\n",
      "numpy.percentile\n",
      "    Compute the qth percentile of the data along the specified axis.\n",
      "numpy.histogram2d\n",
      "    Compute the bi-dimensional histogram of two data samples.\n",
      "numpy.histogramdd\n",
      "    Compute the multidimensional histogram of some data.\n",
      "numpy.intersect1d\n",
      "    Find the intersection of two arrays.\n",
      "numpy.ma.add\n",
      "    Add arguments element-wise.\n",
      "numpy.array2string\n",
      "    Return a string representation of an array.\n",
      "numpy.ma.var\n",
      "    Compute the variance along the specified axis.\n",
      "numpy.fft.ifft\n",
      "    Compute the one-dimensional inverse discrete Fourier Transform.\n",
      "numpy.nanpercentile\n",
      "    Compute the qth percentile of the data along the specified axis,\n",
      "numpy.ma.inner\n",
      "    Inner product of two arrays.\n",
      "numpy.ma.outer\n",
      "    Compute the outer product of two vectors.\n",
      "numpy.ma.trace\n",
      "    a.trace(offset=0, axis1=0, axis2=1, dtype=None, out=None)\n",
      "numpy.apply_over_axes\n",
      "    Apply a function repeatedly over multiple axes.\n",
      "numpy.ma.average\n",
      "    Return the weighted average of array over the given axis.\n",
      "numpy.ma.polyfit\n",
      "    Least squares polynomial fit.\n",
      "numpy.linalg.cond\n",
      "    Compute the condition number of a matrix.\n",
      "numpy.linalg.norm\n",
      "    Matrix or vector norm.\n",
      "numpy.set_printoptions\n",
      "    Set printing options.\n",
      "numpy.ma.convolve\n",
      "    Returns the discrete, linear convolution of two one-dimensional sequences.\n",
      "numpy.ma.diagflat\n",
      "    Create a two-dimensional array with the flattened input as a diagonal.\n",
      "numpy.linalg.lstsq\n",
      "    Return the least-squares solution to a linear matrix equation.\n",
      "numpy.ufunc.reduce\n",
      "    Reduces `a`'s dimension by one, by applying ufunc along one axis.\n",
      "numpy.bytes0.expandtabs\n",
      "    Return a copy of B where all tab characters are expanded using spaces.\n",
      "numpy.ufunc.reduceat\n",
      "    Performs a (local) reduce with specified slices over a single axis.\n",
      "numpy.linalg.multi_dot\n",
      "    Compute the dot product of two or more arrays in a single function call,\n",
      "numpy.linalg.tensorinv\n",
      "    Compute the 'inverse' of an N-dimensional array.\n",
      "numpy.str0.expandtabs\n",
      "    Return a copy of S where all tab characters are expanded using spaces.\n",
      "numpy.ufunc.accumulate\n",
      "    Accumulate the result of applying the operator to all elements.\n",
      "numpy.linalg.matrix_rank\n",
      "    Return matrix rank of array using SVD method\n",
      "numpy.ma.apply_over_axes\n",
      "    Apply a function repeatedly over multiple axes.\n",
      "numpy.ma.MaskedArray.var\n",
      "    Compute the variance along the specified axis.\n",
      "numpy.distutils.command.sdist.sdist.write_manifest\n",
      "    Write the file list in 'self.filelist' (presumably as filled in\n",
      "numpy.core.tests.test_numeric.TestKeepdims.sub_array.sum\n",
      "    Return the sum of the array elements over the given axis.\n",
      "numpy.polynomial.Hermite.fit\n",
      "    Least squares fit to data.\n",
      "numpy.polynomial.Hermite._fit\n",
      "    Least squares fit of Hermite series to data.\n",
      "numpy.polynomial.HermiteE.fit\n",
      "    Least squares fit to data.\n",
      "numpy.polynomial.Laguerre.fit\n",
      "    Least squares fit to data.\n",
      "numpy.polynomial.Legendre.fit\n",
      "    Least squares fit to data.\n",
      "numpy.polynomial.Chebyshev.fit\n",
      "    Least squares fit to data.\n",
      "numpy.polynomial.HermiteE._fit\n",
      "    Least squares fit of Hermite series to data.\n",
      "numpy.polynomial.Laguerre._fit\n",
      "    Least squares fit of Laguerre series to data.\n",
      "numpy.polynomial.Legendre._fit\n",
      "    Least squares fit of Legendre series to data.\n",
      "numpy.polynomial.Chebyshev._fit\n",
      "    Least squares fit of Chebyshev series to data.\n",
      "numpy.polynomial.Hermite._roots\n",
      "    Compute the roots of a Hermite series.\n",
      "numpy.polynomial.Polynomial.fit\n",
      "    Least squares fit to data.\n",
      "numpy.polynomial.HermiteE._roots\n",
      "    Compute the roots of a HermiteE series.\n",
      "numpy.polynomial.Laguerre._roots\n",
      "    Compute the roots of a Laguerre series.\n",
      "numpy.polynomial.Legendre._roots\n",
      "    Compute the roots of a Legendre series.\n",
      "numpy.polynomial.Polynomial._fit\n",
      "    Least-squares fit of a polynomial to data.\n",
      "numpy.polynomial.Chebyshev._roots\n",
      "    Compute the roots of a Chebyshev series.\n",
      "numpy.polynomial.Polynomial._roots\n",
      "    Compute the roots of a polynomial.\n",
      "numpy.polynomial.hermite.hermval2d\n",
      "    Evaluate a 2-D Hermite series at points (x, y).\n",
      "numpy.polynomial.hermite.hermval3d\n",
      "    Evaluate a 3-D Hermite series at points (x, y, z).\n",
      "numpy.polynomial.laguerre.lagval2d\n",
      "    Evaluate a 2-D Laguerre series at points (x, y).\n",
      "numpy.polynomial.laguerre.lagval3d\n",
      "    Evaluate a 3-D Laguerre series at points (x, y, z).\n",
      "numpy.polynomial.legendre.legval2d\n",
      "    Evaluate a 2-D Legendre series at points (x, y).\n",
      "numpy.polynomial.legendre.legval3d\n",
      "    Evaluate a 3-D Legendre series at points (x, y, z).\n",
      "numpy.polynomial.hermite.hermgrid2d\n",
      "    Evaluate a 2-D Hermite series on the Cartesian product of x and y.\n",
      "numpy.polynomial.hermite.hermgrid3d\n",
      "    Evaluate a 3-D Hermite series on the Cartesian product of x, y, and z.\n",
      "numpy.polynomial.laguerre.laggrid2d\n",
      "    Evaluate a 2-D Laguerre series on the Cartesian product of x and y.\n",
      "numpy.polynomial.laguerre.laggrid3d\n",
      "    Evaluate a 3-D Laguerre series on the Cartesian product of x, y, and z.\n",
      "numpy.polynomial.legendre.leggrid2d\n",
      "    Evaluate a 2-D Legendre series on the Cartesian product of x and y.\n",
      "numpy.polynomial.legendre.leggrid3d\n",
      "    Evaluate a 3-D Legendre series on the Cartesian product of x, y, and z.\n",
      "numpy.polynomial.chebyshev.chebval2d\n",
      "    Evaluate a 2-D Chebyshev series at points (x, y).\n",
      "numpy.polynomial.chebyshev.chebval3d\n",
      "    Evaluate a 3-D Chebyshev series at points (x, y, z).\n",
      "numpy.polynomial.chebyshev.chebgrid2d\n",
      "    Evaluate a 2-D Chebyshev series on the Cartesian product of x and y.\n",
      "numpy.polynomial.chebyshev.chebgrid3d\n",
      "    Evaluate a 3-D Chebyshev series on the Cartesian product of x, y, and z.\n",
      "numpy.polynomial.hermite_e.hermeval2d\n",
      "    Evaluate a 2-D HermiteE series at points (x, y).\n",
      "numpy.polynomial.hermite_e.hermeval3d\n",
      "    Evaluate a 3-D Hermite_e series at points (x, y, z).\n",
      "numpy.polynomial.polynomial.polyval2d\n",
      "    Evaluate a 2-D polynomial at points (x, y).\n",
      "numpy.polynomial.polynomial.polyval3d\n",
      "    Evaluate a 3-D polynomial at points (x, y, z).\n",
      "numpy.polynomial.hermite_e.hermegrid2d\n",
      "    Evaluate a 2-D HermiteE series on the Cartesian product of x and y.\n",
      "numpy.polynomial.hermite_e.hermegrid3d\n",
      "    Evaluate a 3-D HermiteE series on the Cartesian product of x, y, and z.\n",
      "numpy.polynomial.polynomial.polygrid2d\n",
      "    Evaluate a 2-D polynomial on the Cartesian product of x and y.\n",
      "numpy.polynomial.polynomial.polygrid3d\n",
      "    Evaluate a 3-D polynomial on the Cartesian product of x, y and z.\n",
      "numpy.distutils.command.build_clib.build_clib.check_library_list\n",
      "    Ensure that the list of libraries is valid.\n",
      "numpy.distutils.command.build_ext.build_ext.check_extensions_list\n",
      "    Ensure that the list of extensions (presumably provided as a\n",
      "numpy.distutils.command.develop.develop.create_index.__getitem__\n",
      "    Return a newest-to-oldest list of distributions for `project_name`\n",
      "numpy.testing.nose_tools.noseclasses.NumpyDocTestFinder._find_lineno\n",
      "    Return a line number of the given object's docstring.  Note:\n",
      "numpy.distutils.misc_util.Configuration.set_options\n",
      "    Configure Configuration instance.\n",
      "numpy.distutils.misc_util.Configuration.add_subpackage\n",
      "    Add a sub-package to the current Configuration instance.\n",
      "numpy.distutils.misc_util.Configuration.get_subpackage\n",
      "    Return list of subpackage configurations.\n",
      "numpy.distutils.misc_util.Configuration.add_npy_pkg_config\n",
      "    Generate and install a npy-pkg config file from a template.\n",
      "numpy.core.tests.test_multiarray.TestWritebackIfCopy.subTest\n",
      "    Return a context manager that will return the enclosed block\n",
      "numpy.linalg.tests.test_deprecations.test_qr_mode_full_future_warning\n",
      "    Check mode='full' FutureWarning."
     ]
    }
   ],
   "source": [
    "np.lookfor('sum')"
   ]
  },
  {
   "cell_type": "markdown",
   "metadata": {},
   "source": [
    "#### 42. Consider two random array A and B, check if they are equal (★★☆)"
   ]
  },
  {
   "cell_type": "code",
   "execution_count": 41,
   "metadata": {},
   "outputs": [
    {
     "name": "stdout",
     "output_type": "stream",
     "text": [
      "False\n"
     ]
    }
   ],
   "source": [
    "'''The np.equal method gives us the element truthwise comparision whereas the np.allclose function gives us the\n",
    "result if all the elements are equal or not.\n",
    "\n",
    "Allclose works it both the matrixes are of the same dimensions(shape) while array equal first compares the shape \n",
    "and then checks the elements.So the array_equal method is better\n",
    "'''\n",
    "\n",
    "randarray1=np.random.rand(4)\n",
    "randarray2=np.random.rand(5)\n",
    "\n",
    "# print(np.allclose(randarray1,randarray2))\n",
    "print(np.array_equal(randarray1,randarray2))\n",
    "\n",
    "# np.lookfor('equal')\n",
    "# ?np.array_equal"
   ]
  },
  {
   "cell_type": "markdown",
   "metadata": {},
   "source": [
    "#### 43. Make an array immutable (read-only) (★★☆)"
   ]
  },
  {
   "cell_type": "code",
   "execution_count": 56,
   "metadata": {},
   "outputs": [],
   "source": [
    "'''The Simplest Method would be to convert the array into a tuple(immutable object)\n",
    "\n",
    "The other way simple way is to set a writable flag for an array(refer to the above answer)\n",
    "\n",
    "https://stackoverflow.com/questions/5541324/immutable-numpy-array\n",
    "\n",
    "'''\n",
    "init_array=np.random.rand(10)\n",
    "init_array.setflags(write=False)"
   ]
  },
  {
   "cell_type": "markdown",
   "metadata": {},
   "source": [
    "#### 44. Consider a random 10x2 matrix representing cartesian coordinates, convert them to polar coordinates (★★☆)"
   ]
  },
  {
   "cell_type": "code",
   "execution_count": null,
   "metadata": {
    "collapsed": true
   },
   "outputs": [],
   "source": []
  },
  {
   "cell_type": "markdown",
   "metadata": {},
   "source": [
    "#### 45. Create random vector of size 10 and replace the maximum value by 0 (★★☆)"
   ]
  },
  {
   "cell_type": "code",
   "execution_count": 66,
   "metadata": {},
   "outputs": [
    {
     "name": "stdout",
     "output_type": "stream",
     "text": [
      "[0.         0.47079336 0.51235952 0.26298048 0.09889671 0.79884636\n",
      " 0.14280278 0.80566579 0.8795261  0.49992016]\n"
     ]
    }
   ],
   "source": [
    "'''Using argmax,we can find the index of the maximum element in the array and then directly assign that index to \n",
    "zero'''\n",
    "\n",
    "init_array=np.random.rand(10)\n",
    "maxval=np.argmax(init_array)\n",
    "\n",
    "# index_max=np.where(maxval,init_array)\n",
    "init_array[maxval]=0\n",
    "\n",
    "print(init_array)"
   ]
  },
  {
   "cell_type": "markdown",
   "metadata": {},
   "source": [
    "#### 46. Create a structured array with `x` and `y` coordinates covering the \\[0,1\\]x\\[0,1\\] area (★★☆)"
   ]
  },
  {
   "cell_type": "code",
   "execution_count": null,
   "metadata": {
    "collapsed": true
   },
   "outputs": [],
   "source": []
  },
  {
   "cell_type": "markdown",
   "metadata": {},
   "source": [
    "####  47. Given two arrays, X and Y, construct the Cauchy matrix C (Cij =1/(xi - yj))"
   ]
  },
  {
   "cell_type": "code",
   "execution_count": null,
   "metadata": {
    "collapsed": true
   },
   "outputs": [],
   "source": []
  },
  {
   "cell_type": "markdown",
   "metadata": {},
   "source": [
    "#### 48. Print the minimum and maximum representable value for each numpy scalar type (★★☆)"
   ]
  },
  {
   "cell_type": "code",
   "execution_count": null,
   "metadata": {
    "collapsed": true
   },
   "outputs": [],
   "source": []
  },
  {
   "cell_type": "markdown",
   "metadata": {},
   "source": [
    "#### 49. How to print all the values of an array? (★★☆)"
   ]
  },
  {
   "cell_type": "code",
   "execution_count": null,
   "metadata": {
    "collapsed": true
   },
   "outputs": [],
   "source": []
  },
  {
   "cell_type": "markdown",
   "metadata": {},
   "source": [
    "#### 50. How to find the closest value (to a given scalar) in a vector? (★★☆)"
   ]
  },
  {
   "cell_type": "code",
   "execution_count": null,
   "metadata": {
    "collapsed": true
   },
   "outputs": [],
   "source": []
  },
  {
   "cell_type": "markdown",
   "metadata": {},
   "source": [
    "#### 51. Create a structured array representing a position (x,y) and a color (r,g,b) (★★☆)"
   ]
  },
  {
   "cell_type": "code",
   "execution_count": null,
   "metadata": {
    "collapsed": true
   },
   "outputs": [],
   "source": []
  },
  {
   "cell_type": "markdown",
   "metadata": {},
   "source": [
    "#### 52. Consider a random vector with shape (100,2) representing coordinates, find point by point distances (★★☆)"
   ]
  },
  {
   "cell_type": "code",
   "execution_count": null,
   "metadata": {
    "collapsed": true
   },
   "outputs": [],
   "source": []
  },
  {
   "cell_type": "markdown",
   "metadata": {},
   "source": [
    "#### 53. How to convert a float (32 bits) array into an integer (32 bits) in place?"
   ]
  },
  {
   "cell_type": "code",
   "execution_count": null,
   "metadata": {
    "collapsed": true
   },
   "outputs": [],
   "source": []
  },
  {
   "cell_type": "markdown",
   "metadata": {},
   "source": [
    "#### 54. How to read the following file? (★★☆)"
   ]
  },
  {
   "cell_type": "markdown",
   "metadata": {},
   "source": [
    "```\n",
    "1, 2, 3, 4, 5\n",
    "6,  ,  , 7, 8\n",
    " ,  , 9,10,11\n",
    "```"
   ]
  },
  {
   "cell_type": "code",
   "execution_count": null,
   "metadata": {
    "collapsed": true
   },
   "outputs": [],
   "source": []
  },
  {
   "cell_type": "markdown",
   "metadata": {},
   "source": [
    "#### 55. What is the equivalent of enumerate for numpy arrays? (★★☆)"
   ]
  },
  {
   "cell_type": "code",
   "execution_count": null,
   "metadata": {
    "collapsed": true
   },
   "outputs": [],
   "source": []
  },
  {
   "cell_type": "markdown",
   "metadata": {},
   "source": [
    "#### 56. Generate a generic 2D Gaussian-like array (★★☆)"
   ]
  },
  {
   "cell_type": "code",
   "execution_count": null,
   "metadata": {
    "collapsed": true
   },
   "outputs": [],
   "source": []
  },
  {
   "cell_type": "markdown",
   "metadata": {},
   "source": [
    "#### 57. How to randomly place p elements in a 2D array? (★★☆)"
   ]
  },
  {
   "cell_type": "code",
   "execution_count": null,
   "metadata": {
    "collapsed": true
   },
   "outputs": [],
   "source": []
  },
  {
   "cell_type": "markdown",
   "metadata": {},
   "source": [
    "#### 58. Subtract the mean of each row of a matrix (★★☆)"
   ]
  },
  {
   "cell_type": "code",
   "execution_count": 75,
   "metadata": {},
   "outputs": [
    {
     "name": "stdout",
     "output_type": "stream",
     "text": [
      "[[0.15526401 0.36099196 0.95507526]\n",
      " [0.13015837 0.27284659 0.80911787]\n",
      " [0.96565706 0.09242216 0.58342427]]\n",
      "[[-0.33517973 -0.04304898  0.40790743]\n",
      " [-0.36028537 -0.13119436  0.26195004]\n",
      " [ 0.47521332 -0.31161878  0.03625644]]\n"
     ]
    }
   ],
   "source": [
    "'''Get the mean along the row(axis=1) and create it inot a new array and subtract from the original array'''\n",
    "init_array=np.random.rand(9).reshape(3,3)\n",
    "\n",
    "mean=np.mean(init_array,axis=1)\n",
    "\n",
    "print(init_array)\n",
    "print(init_array-mean)"
   ]
  },
  {
   "cell_type": "markdown",
   "metadata": {},
   "source": [
    "#### 59. How to sort an array by the nth column? (★★☆)"
   ]
  },
  {
   "cell_type": "code",
   "execution_count": null,
   "metadata": {
    "collapsed": true
   },
   "outputs": [],
   "source": []
  },
  {
   "cell_type": "markdown",
   "metadata": {},
   "source": [
    "#### 60. How to tell if a given 2D array has null columns? (★★☆)"
   ]
  },
  {
   "cell_type": "code",
   "execution_count": null,
   "metadata": {
    "collapsed": true
   },
   "outputs": [],
   "source": []
  },
  {
   "cell_type": "markdown",
   "metadata": {},
   "source": [
    "#### 61. Find the nearest value from a given value in an array (★★☆)"
   ]
  },
  {
   "cell_type": "code",
   "execution_count": null,
   "metadata": {
    "collapsed": true
   },
   "outputs": [],
   "source": []
  },
  {
   "cell_type": "markdown",
   "metadata": {},
   "source": [
    "#### 62. Considering two arrays with shape (1,3) and (3,1), how to compute their sum using an iterator? (★★☆)"
   ]
  },
  {
   "cell_type": "code",
   "execution_count": null,
   "metadata": {
    "collapsed": true
   },
   "outputs": [],
   "source": []
  },
  {
   "cell_type": "markdown",
   "metadata": {},
   "source": [
    "#### 63. Create an array class that has a name attribute (★★☆)"
   ]
  },
  {
   "cell_type": "code",
   "execution_count": null,
   "metadata": {
    "collapsed": true
   },
   "outputs": [],
   "source": []
  },
  {
   "cell_type": "markdown",
   "metadata": {},
   "source": [
    "#### 64. Consider a given vector, how to add 1 to each element indexed by a second vector (be careful with repeated indices)? (★★★)"
   ]
  },
  {
   "cell_type": "code",
   "execution_count": null,
   "metadata": {
    "collapsed": true
   },
   "outputs": [],
   "source": []
  },
  {
   "cell_type": "markdown",
   "metadata": {},
   "source": [
    "#### 65. How to accumulate elements of a vector (X) to an array (F) based on an index list (I)? (★★★)"
   ]
  },
  {
   "cell_type": "code",
   "execution_count": null,
   "metadata": {
    "collapsed": true
   },
   "outputs": [],
   "source": []
  },
  {
   "cell_type": "markdown",
   "metadata": {},
   "source": [
    "#### 66. Considering a (w,h,3) image of (dtype=ubyte), compute the number of unique colors (★★★)"
   ]
  },
  {
   "cell_type": "code",
   "execution_count": null,
   "metadata": {
    "collapsed": true
   },
   "outputs": [],
   "source": []
  },
  {
   "cell_type": "markdown",
   "metadata": {},
   "source": [
    "#### 67. Considering a four dimensions array, how to get sum over the last two axis at once? (★★★)"
   ]
  },
  {
   "cell_type": "code",
   "execution_count": null,
   "metadata": {
    "collapsed": true
   },
   "outputs": [],
   "source": []
  },
  {
   "cell_type": "markdown",
   "metadata": {},
   "source": [
    "#### 68. Considering a one-dimensional vector D, how to compute means of subsets of D using a vector S of same size describing subset  indices? (★★★)"
   ]
  },
  {
   "cell_type": "code",
   "execution_count": null,
   "metadata": {
    "collapsed": true
   },
   "outputs": [],
   "source": []
  },
  {
   "cell_type": "markdown",
   "metadata": {},
   "source": [
    "#### 69. How to get the diagonal of a dot product? (★★★)"
   ]
  },
  {
   "cell_type": "code",
   "execution_count": null,
   "metadata": {
    "collapsed": true
   },
   "outputs": [],
   "source": []
  },
  {
   "cell_type": "markdown",
   "metadata": {},
   "source": [
    "#### 70. Consider the vector \\[1, 2, 3, 4, 5\\], how to build a new vector with 3 consecutive zeros interleaved between each value? (★★★)"
   ]
  },
  {
   "cell_type": "code",
   "execution_count": null,
   "metadata": {
    "collapsed": true
   },
   "outputs": [],
   "source": []
  },
  {
   "cell_type": "markdown",
   "metadata": {},
   "source": [
    "#### 71. Consider an array of dimension (5,5,3), how to mulitply it by an array with dimensions (5,5)? (★★★)"
   ]
  },
  {
   "cell_type": "code",
   "execution_count": null,
   "metadata": {
    "collapsed": true
   },
   "outputs": [],
   "source": []
  },
  {
   "cell_type": "markdown",
   "metadata": {},
   "source": [
    "#### 72. How to swap two rows of an array? (★★★)"
   ]
  },
  {
   "cell_type": "code",
   "execution_count": null,
   "metadata": {
    "collapsed": true
   },
   "outputs": [],
   "source": []
  },
  {
   "cell_type": "markdown",
   "metadata": {},
   "source": [
    "#### 73. Consider a set of 10 triplets describing 10 triangles (with shared vertices), find the set of unique line segments composing all the  triangles (★★★)"
   ]
  },
  {
   "cell_type": "code",
   "execution_count": null,
   "metadata": {
    "collapsed": true
   },
   "outputs": [],
   "source": []
  },
  {
   "cell_type": "markdown",
   "metadata": {},
   "source": [
    "#### 74. Given an array C that is a bincount, how to produce an array A such that np.bincount(A) == C? (★★★)"
   ]
  },
  {
   "cell_type": "code",
   "execution_count": null,
   "metadata": {
    "collapsed": true
   },
   "outputs": [],
   "source": []
  },
  {
   "cell_type": "markdown",
   "metadata": {},
   "source": [
    "#### 75. How to compute averages using a sliding window over an array? (★★★)"
   ]
  },
  {
   "cell_type": "code",
   "execution_count": null,
   "metadata": {
    "collapsed": true
   },
   "outputs": [],
   "source": []
  },
  {
   "cell_type": "markdown",
   "metadata": {},
   "source": [
    "#### 76. Consider a one-dimensional array Z, build a two-dimensional array whose first row is (Z\\[0\\],Z\\[1\\],Z\\[2\\]) and each subsequent row is  shifted by 1 (last row should be (Z\\[-3\\],Z\\[-2\\],Z\\[-1\\]) (★★★)"
   ]
  },
  {
   "cell_type": "code",
   "execution_count": null,
   "metadata": {
    "collapsed": true
   },
   "outputs": [],
   "source": []
  },
  {
   "cell_type": "markdown",
   "metadata": {},
   "source": [
    "#### 77. How to negate a boolean, or to change the sign of a float inplace? (★★★)"
   ]
  },
  {
   "cell_type": "code",
   "execution_count": null,
   "metadata": {
    "collapsed": true
   },
   "outputs": [],
   "source": []
  },
  {
   "cell_type": "markdown",
   "metadata": {},
   "source": [
    "#### 78. Consider 2 sets of points P0,P1 describing lines (2d) and a point p, how to compute distance from p to each line i  (P0\\[i\\],P1\\[i\\])? (★★★)"
   ]
  },
  {
   "cell_type": "code",
   "execution_count": null,
   "metadata": {
    "collapsed": true
   },
   "outputs": [],
   "source": []
  },
  {
   "cell_type": "markdown",
   "metadata": {},
   "source": [
    "#### 79. Consider 2 sets of points P0,P1 describing lines (2d) and a set of points P, how to compute distance from each point j (P\\[j\\]) to each line i (P0\\[i\\],P1\\[i\\])? (★★★)"
   ]
  },
  {
   "cell_type": "code",
   "execution_count": null,
   "metadata": {
    "collapsed": true
   },
   "outputs": [],
   "source": []
  },
  {
   "cell_type": "markdown",
   "metadata": {},
   "source": [
    "#### 80. Consider an arbitrary array, write a function that extract a subpart with a fixed shape and centered on a given element (pad with a `fill` value when necessary) (★★★)"
   ]
  },
  {
   "cell_type": "code",
   "execution_count": null,
   "metadata": {
    "collapsed": true
   },
   "outputs": [],
   "source": []
  },
  {
   "cell_type": "markdown",
   "metadata": {},
   "source": [
    "#### 81. Consider an array Z = \\[1,2,3,4,5,6,7,8,9,10,11,12,13,14\\], how to generate an array R = \\[\\[1,2,3,4\\], \\[2,3,4,5\\], \\[3,4,5,6\\], ..., \\[11,12,13,14\\]\\]? (★★★)"
   ]
  },
  {
   "cell_type": "code",
   "execution_count": null,
   "metadata": {
    "collapsed": true
   },
   "outputs": [],
   "source": []
  },
  {
   "cell_type": "markdown",
   "metadata": {},
   "source": [
    "#### 82. Compute a matrix rank (★★★)"
   ]
  },
  {
   "cell_type": "code",
   "execution_count": null,
   "metadata": {
    "collapsed": true
   },
   "outputs": [],
   "source": []
  },
  {
   "cell_type": "markdown",
   "metadata": {},
   "source": [
    "#### 83. How to find the most frequent value in an array?"
   ]
  },
  {
   "cell_type": "code",
   "execution_count": null,
   "metadata": {
    "collapsed": true
   },
   "outputs": [],
   "source": []
  },
  {
   "cell_type": "markdown",
   "metadata": {},
   "source": [
    "#### 84. Extract all the contiguous 3x3 blocks from a random 10x10 matrix (★★★)"
   ]
  },
  {
   "cell_type": "code",
   "execution_count": null,
   "metadata": {
    "collapsed": true
   },
   "outputs": [],
   "source": []
  },
  {
   "cell_type": "markdown",
   "metadata": {},
   "source": [
    "#### 85. Create a 2D array subclass such that Z\\[i,j\\] == Z\\[j,i\\] (★★★)"
   ]
  },
  {
   "cell_type": "code",
   "execution_count": null,
   "metadata": {
    "collapsed": true
   },
   "outputs": [],
   "source": []
  },
  {
   "cell_type": "markdown",
   "metadata": {},
   "source": [
    "#### 86. Consider a set of p matrices wich shape (n,n) and a set of p vectors with shape (n,1). How to compute the sum of of the p matrix products at once? (result has shape (n,1)) (★★★)"
   ]
  },
  {
   "cell_type": "code",
   "execution_count": null,
   "metadata": {
    "collapsed": true
   },
   "outputs": [],
   "source": []
  },
  {
   "cell_type": "markdown",
   "metadata": {},
   "source": [
    "#### 87. Consider a 16x16 array, how to get the block-sum (block size is 4x4)? (★★★)"
   ]
  },
  {
   "cell_type": "code",
   "execution_count": null,
   "metadata": {
    "collapsed": true
   },
   "outputs": [],
   "source": []
  },
  {
   "cell_type": "markdown",
   "metadata": {},
   "source": [
    "#### 88. How to implement the Game of Life using numpy arrays? (★★★)"
   ]
  },
  {
   "cell_type": "code",
   "execution_count": null,
   "metadata": {
    "collapsed": true
   },
   "outputs": [],
   "source": []
  },
  {
   "cell_type": "markdown",
   "metadata": {},
   "source": [
    "#### 89. How to get the n largest values of an array (★★★)"
   ]
  },
  {
   "cell_type": "code",
   "execution_count": null,
   "metadata": {
    "collapsed": true
   },
   "outputs": [],
   "source": []
  },
  {
   "cell_type": "markdown",
   "metadata": {},
   "source": [
    "#### 90. Given an arbitrary number of vectors, build the cartesian product (every combinations of every item) (★★★)"
   ]
  },
  {
   "cell_type": "code",
   "execution_count": null,
   "metadata": {
    "collapsed": true,
    "scrolled": true
   },
   "outputs": [],
   "source": []
  },
  {
   "cell_type": "markdown",
   "metadata": {},
   "source": [
    "#### 91. How to create a record array from a regular array? (★★★)"
   ]
  },
  {
   "cell_type": "code",
   "execution_count": null,
   "metadata": {
    "collapsed": true
   },
   "outputs": [],
   "source": []
  },
  {
   "cell_type": "markdown",
   "metadata": {},
   "source": [
    "#### 92. Consider a large vector Z, compute Z to the power of 3 using 3 different methods (★★★)"
   ]
  },
  {
   "cell_type": "code",
   "execution_count": null,
   "metadata": {
    "collapsed": true
   },
   "outputs": [],
   "source": []
  },
  {
   "cell_type": "markdown",
   "metadata": {},
   "source": [
    "#### 93. Consider two arrays A and B of shape (8,3) and (2,2). How to find rows of A that contain elements of each row of B regardless of the order of the elements in B? (★★★)"
   ]
  },
  {
   "cell_type": "code",
   "execution_count": null,
   "metadata": {
    "collapsed": true
   },
   "outputs": [],
   "source": []
  },
  {
   "cell_type": "markdown",
   "metadata": {},
   "source": [
    "#### 94. Considering a 10x3 matrix, extract rows with unequal values (e.g. \\[2,2,3\\]) (★★★)"
   ]
  },
  {
   "cell_type": "code",
   "execution_count": null,
   "metadata": {
    "collapsed": true
   },
   "outputs": [],
   "source": []
  },
  {
   "cell_type": "markdown",
   "metadata": {},
   "source": [
    "#### 95. Convert a vector of ints into a matrix binary representation (★★★)"
   ]
  },
  {
   "cell_type": "code",
   "execution_count": null,
   "metadata": {
    "collapsed": true
   },
   "outputs": [],
   "source": []
  },
  {
   "cell_type": "markdown",
   "metadata": {},
   "source": [
    "#### 96. Given a two dimensional array, how to extract unique rows? (★★★)"
   ]
  },
  {
   "cell_type": "code",
   "execution_count": null,
   "metadata": {
    "collapsed": true
   },
   "outputs": [],
   "source": []
  },
  {
   "cell_type": "markdown",
   "metadata": {},
   "source": [
    "#### 97. Considering 2 vectors A & B, write the einsum equivalent of inner, outer, sum, and mul function (★★★)"
   ]
  },
  {
   "cell_type": "code",
   "execution_count": null,
   "metadata": {
    "collapsed": true
   },
   "outputs": [],
   "source": []
  },
  {
   "cell_type": "markdown",
   "metadata": {},
   "source": [
    "#### 98. Considering a path described by two vectors (X,Y), how to sample it using equidistant samples (★★★)?"
   ]
  },
  {
   "cell_type": "code",
   "execution_count": null,
   "metadata": {
    "collapsed": true
   },
   "outputs": [],
   "source": []
  },
  {
   "cell_type": "markdown",
   "metadata": {},
   "source": [
    "#### 99. Given an integer n and a 2D array X, select from X the rows which can be interpreted as draws from a multinomial distribution with n degrees, i.e., the rows which only contain integers and which sum to n. (★★★)"
   ]
  },
  {
   "cell_type": "code",
   "execution_count": null,
   "metadata": {
    "collapsed": true
   },
   "outputs": [],
   "source": []
  },
  {
   "cell_type": "markdown",
   "metadata": {},
   "source": [
    "#### 100. Compute bootstrapped 95% confidence intervals for the mean of a 1D array X (i.e., resample the elements of an array with replacement N times, compute the mean of each sample, and then compute percentiles over the means). (★★★)"
   ]
  },
  {
   "cell_type": "code",
   "execution_count": null,
   "metadata": {
    "collapsed": true
   },
   "outputs": [],
   "source": []
  }
 ],
 "metadata": {
  "kernelspec": {
   "display_name": "Python 3",
   "language": "python",
   "name": "python3"
  },
  "language_info": {
   "codemirror_mode": {
    "name": "ipython",
    "version": 3
   },
   "file_extension": ".py",
   "mimetype": "text/x-python",
   "name": "python",
   "nbconvert_exporter": "python",
   "pygments_lexer": "ipython3",
   "version": "3.6.3"
  }
 },
 "nbformat": 4,
 "nbformat_minor": 1
}
